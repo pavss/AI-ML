{
 "cells": [
  {
   "cell_type": "markdown",
   "metadata": {
    "id": "JJFFNAmNxblD"
   },
   "source": [
    "**MNIST in Keras**"
   ]
  },
  {
   "cell_type": "markdown",
   "metadata": {
    "id": "Huz3qEMEzn4y"
   },
   "source": [
    "**Deep learning with Keras and TensorFlow**"
   ]
  },
  {
   "cell_type": "markdown",
   "metadata": {
    "id": "nGk3oi5f0ck9"
   },
   "source": [
    "#### Code to plot losses inline in this notebook"
   ]
  },
  {
   "cell_type": "code",
   "execution_count": 43,
   "metadata": {
    "id": "jwskkevzy3oI"
   },
   "outputs": [],
   "source": [
    "%matplotlib inline"
   ]
  },
  {
   "cell_type": "markdown",
   "metadata": {
    "id": "VQ1TZqwg1xhJ"
   },
   "source": [
    "**The Task for the AI**\n",
    "#### Our goal is to construct and train an artificial neural network on thousands of images of handwritten digits so that it may successfully identify others when presented. The data that will be incorporated is the MNIST database which contains 60,000 images for training and 10,000 test images. We will use the Keras Python API with TensorFlow as the backend."
   ]
  },
  {
   "cell_type": "markdown",
   "metadata": {
    "id": "lHq1VwsN4keL"
   },
   "source": [
    "### Method 1: Without Convolution"
   ]
  },
  {
   "cell_type": "markdown",
   "metadata": {
    "id": "Gdv0ILDd1-3V"
   },
   "source": [
    "**Prerequisite Python Modules**"
   ]
  },
  {
   "cell_type": "markdown",
   "metadata": {
    "id": "a1NczC4p5FI7"
   },
   "source": [
    "#### Keras is the high-level API of TensorFlow that provides essential abstractions and building blocks for developing and shipping machine learning solutions with high iteration velocity\n",
    "#### Keras provides numpy utility library, which provides functions to perform actions on numpy arrays"
   ]
  },
  {
   "cell_type": "code",
   "execution_count": 44,
   "metadata": {
    "id": "ZuNNK0xxEN_-"
   },
   "outputs": [],
   "source": [
    "import numpy as np                   # advanced math library\n",
    "import matplotlib.pyplot as plt      # MATLAB like plotting routines\n",
    "import random                        # for generating random numbers\n",
    "\n",
    "from keras.datasets import mnist     # MNIST dataset is included in Keras\n",
    "from keras.models import Sequential  # Model type to be used\n",
    "\n",
    "from keras.layers.core import Dense, Dropout, Activation # Types of layers to be used in our model\n",
    "from keras.utils import np_utils                         # NumPy related tools"
   ]
  },
  {
   "cell_type": "markdown",
   "metadata": {
    "id": "_KYQVwET6Dz7"
   },
   "source": [
    "**Split dataset into train and test**"
   ]
  },
  {
   "cell_type": "code",
   "execution_count": 45,
   "metadata": {
    "colab": {
     "base_uri": "https://localhost:8080/"
    },
    "id": "tq1g791sDjic",
    "outputId": "f0df0b54-0ff7-4767-ab9a-964bef189fd3"
   },
   "outputs": [
    {
     "name": "stdout",
     "output_type": "stream",
     "text": [
      "X_train shape (60000, 28, 28)\n",
      "y_train shape (60000,)\n",
      "X_test shape (10000, 28, 28)\n",
      "y_test shape (10000,)\n"
     ]
    }
   ],
   "source": [
    "#MNIST data is split between 60,000 28 x 28 pixel training images and 10,000 28 x 28 pixel images\n",
    "(X_train, y_train), (X_test, y_test) = mnist.load_data()\n",
    "\n",
    "print(\"X_train shape\", X_train.shape)\n",
    "print(\"y_train shape\", y_train.shape)\n",
    "print(\"X_test shape\", X_test.shape)\n",
    "print(\"y_test shape\", y_test.shape)"
   ]
  },
  {
   "cell_type": "markdown",
   "metadata": {
    "id": "Qy1yBvV189XY"
   },
   "source": [
    "##### Using matplotlib, we can plot some sample images from the training set directly into google colab."
   ]
  },
  {
   "cell_type": "markdown",
   "metadata": {
    "id": "bHVm0WSAV35j"
   },
   "source": [
    "#### To display a grayscale image, set up the colormapping using the parameters cmap='gray', vmin=0, vmax=255\n",
    "#### Interpolation method can be used to display an image.\n",
    "#### imshow() function displays data as an image i.e, on a 2D regular   raster"
   ]
  },
  {
   "cell_type": "code",
   "execution_count": 46,
   "metadata": {
    "colab": {
     "base_uri": "https://localhost:8080/",
     "height": 657
    },
    "id": "BmyTEaD8FbYc",
    "outputId": "5275ceed-a333-4103-bd28-aaac9db51c47"
   },
   "outputs": [
    {
     "data": {
      "image/png": "[encoded data removed]",
      "text/plain": [
       "<Figure size 648x648 with 9 Axes>"
      ]
     },
     "metadata": {
      "needs_background": "light"
     },
     "output_type": "display_data"
    }
   ],
   "source": [
    "plt.rcParams['figure.figsize'] = (9,9) # Make the figures a bit bigger\n",
    "for i in range(9):\n",
    "    plt.subplot(3,3,i+1)               # Create a matrix of 3X3 to display the images\n",
    "    num = random.randint(0, len(X_train)) #At each iteration a random number between 0 and 60,000 is selected \n",
    "                                          # one of the image at the index of num will be displayed as one of the elements of matrix\n",
    "    plt.imshow(X_train[num], cmap='gray', interpolation='none')\n",
    "    plt.title(\"Class {}\".format(y_train[num]))\n",
    "    \n",
    "plt.tight_layout()"
   ]
  },
  {
   "cell_type": "markdown",
   "metadata": {
    "id": "W8U0cG5QXIHa"
   },
   "source": [
    "##### Let's examine a single digit a little closer, and print out the array representing the last digit."
   ]
  },
  {
   "cell_type": "code",
   "execution_count": 47,
   "metadata": {
    "colab": {
     "base_uri": "https://localhost:8080/"
    },
    "id": "Y-LzWML8SFJk",
    "outputId": "2e6d0830-063e-4170-dab1-5e13257864f6"
   },
   "outputs": [
    {
     "name": "stdout",
     "output_type": "stream",
     "text": [
      "0  0  0  0  0    0    0    0    0    0    0    0    0    0    0    0    0    0    0    0    0    0    0    0    0  0  0  0  \n",
      "0  0  0  0  0    0    0    0    0    0    0    0    0    0    0    0    0    0    0    0    0    0    0    0    0  0  0  0  \n",
      "0  0  0  0  0    0    0    0    0    0    0    0    0    0    0    0    0    0    0    0    0    0    0    0    0  0  0  0  \n",
      "0  0  0  0  0    0    0    0    0    0    0    0    0    0    0    0    0    0    0    0    0    0    0    0    0  0  0  0  \n",
      "0  0  0  0  0    0    0    0    0    0    0    0   40   67   67   67   67  143  254  254  140    0    0    0    0  0  0  0  \n",
      "0  0  0  0  0    0    0    0    0    0  109  132  204  253  253  253  253  253  253  253  139    0    0    0    0  0  0  0  \n",
      "0  0  0  0  0    0    0    0    0  112  243  253  253  253  253  253  253  253  253  253  228   58    0    0    0  0  0  0  \n",
      "0  0  0  0  0    0    0    0    0  141  253  253  253  253  253  253  253  253  253  253  253   74    0    0    0  0  0  0  \n",
      "0  0  0  0  0    0    0    0    0  141  253  253  253  147  200  112  238  253  253  253  253  174    5    0    0  0  0  0  \n",
      "0  0  0  0  0    0    0    0    0  131  234  170   46   12   29    0   86  253  253  253  244  101    2    0    0  0  0  0  \n",
      "0  0  0  0  0    0    0    0    0    0    0    0    0    0    0    0  226  253  253  253  139    0    0    0    0  0  0  0  \n",
      "0  0  0  0  0    0    0    0    0    0    0    0    0    0    0   96  242  253  253  224   57    0    0    0    0  0  0  0  \n",
      "0  0  0  0  0    0    0    0    0    0    0    0    0   46  217  239  253  253  234   42    0    0    0    0    0  0  0  0  \n",
      "0  0  0  0  0    0    0    0    0    0    0   32   95  230  253  253  253  214   53    0    0    0    0    0    0  0  0  0  \n",
      "0  0  0  0  0    0    0    0    0    0  131  191  253  253  253  253  229   55    0    0    0    0    0    0    0  0  0  0  \n",
      "0  0  0  0  0    0    0   30   38  143  248  253  253  253  239   96   23    0    0    0    0    0    0    0    0  0  0  0  \n",
      "0  0  0  0  0    0    0  198  253  253  253  253  253  241   94    0    0    0    0    0    0    0    0    0    0  0  0  0  \n",
      "0  0  0  0  0   45  169  235  253  253  253  253  151   74    0    0    0    0    0    0    0    0    0    0    0  0  0  0  \n",
      "0  0  0  0  0  242  253  253  253  253  253  173    7    0    0    0    0    0    0    0    0    0    0    0    0  0  0  0  \n",
      "0  0  0  0  0  254  253  253  253  253  253  206  114  114  114  114  114  114  114  114  114  114  114  114  114  0  0  0  \n",
      "0  0  0  0  0  255  253  253  253  253  253  253  253  253  253  253  253  253  253  253  253  253  253  253  253  0  0  0  \n",
      "0  0  0  0  0  254  253  253  253  253  253  253  253  253  253  253  253  253  253  253  227  196  196  196  196  0  0  0  \n",
      "0  0  0  0  0  255  253  253  253  253  253  253  253  239  130  130  240  253  170  130   72    0    0    0    0  0  0  0  \n",
      "0  0  0  0  0   65   65   65   65   65   65   65   65   58    0    0   58   65   22    0    0    0    0    0    0  0  0  0  \n",
      "0  0  0  0  0    0    0    0    0    0    0    0    0    0    0    0    0    0    0    0    0    0    0    0    0  0  0  0  \n",
      "0  0  0  0  0    0    0    0    0    0    0    0    0    0    0    0    0    0    0    0    0    0    0    0    0  0  0  0  \n",
      "0  0  0  0  0    0    0    0    0    0    0    0    0    0    0    0    0    0    0    0    0    0    0    0    0  0  0  0  \n",
      "0  0  0  0  0    0    0    0    0    0    0    0    0    0    0    0    0    0    0    0    0    0    0    0    0  0  0  0  \n"
     ]
    }
   ],
   "source": [
    "def matprint(mat, fmt=\"g\"):\n",
    "    col_maxes = [max([len((\"{:\"+fmt+\"}\").format(x)) for x in col]) for col in mat.T]\n",
    "    for x in mat:\n",
    "        for i, y in enumerate(x):\n",
    "            print((\"{:\"+str(col_maxes[i])+fmt+\"}\").format(y), end=\"  \")\n",
    "        print(\"\")\n",
    "# now print!        \n",
    "matprint(X_train[num])"
   ]
  },
  {
   "cell_type": "markdown",
   "metadata": {
    "id": "NCSQGM-lXzIC"
   },
   "source": [
    "##### Each pixel is an 8-bit integer from 0-255. 0 is full black, while 255 is full white. This what we call a single-channel pixel. It's called monochrome."
   ]
  },
  {
   "cell_type": "markdown",
   "metadata": {
    "id": "pT-52nN1XkLg"
   },
   "source": [
    "**Feature Transformation**"
   ]
  },
  {
   "cell_type": "markdown",
   "metadata": {
    "id": "ZCZ0V-6EXpSA"
   },
   "source": [
    " ##### Reshape the train and test data from 28 x 28 to 784 i.e, passing each pixel to the neural Network. Here, we are directly doing Flattening.\n",
    " ##### we normalize each pixel value is because the neural network learns its weights by continually adding gradient error vectors (multiplied by a learning rate) computed from backpropagation to various weight matrices throughout the network as training examples are passed through.\n",
    "##### If we didn't scale our input training vectors, the ranges of our distributions of feature values would likely be different for each feature, and thus the learning rate would cause corrections in each dimension that would differ from one another. We might be over compensating a correction in one weight dimension while undercompensating in another.\n",
    "##### This is non-ideal as we might find ourselves in a oscillating (unable to center onto a better maxima in cost(weights) space) state or in a slow moving (traveling too slow to get to a better maxima) state."
   ]
  },
  {
   "cell_type": "code",
   "execution_count": 48,
   "metadata": {
    "colab": {
     "base_uri": "https://localhost:8080/"
    },
    "id": "8hyhnCpEF4Ar",
    "outputId": "88bf0028-f2fd-4ad1-d663-9dc33768c99a"
   },
   "outputs": [
    {
     "name": "stdout",
     "output_type": "stream",
     "text": [
      "Training matrix shape (60000, 784)\n",
      "Testing matrix shape (10000, 784)\n"
     ]
    }
   ],
   "source": [
    "X_train = X_train.reshape(60000, 784) # reshape 60,000 28 x 28 matrices into 60,000 784-length vectors.\n",
    "X_test = X_test.reshape(10000, 784)   # reshape 10,000 28 x 28 matrices into 10,000 784-length vectors.\n",
    "\n",
    "X_train = X_train.astype('float32')   # change integers to 32-bit floating point numbers\n",
    "X_test = X_test.astype('float32')\n",
    "\n",
    "X_train /= 255                        # normalize each value for each pixel for the entire vector for each input\n",
    "X_test /= 255\n",
    "\n",
    "print(\"Training matrix shape\", X_train.shape)\n",
    "print(\"Testing matrix shape\", X_test.shape)"
   ]
  },
  {
   "cell_type": "code",
   "execution_count": 49,
   "metadata": {
    "colab": {
     "base_uri": "https://localhost:8080/"
    },
    "id": "-XG4gCLscs3P",
    "outputId": "8134b621-4ad9-4238-f868-ede4ca6624c8"
   },
   "outputs": [
    {
     "data": {
      "text/plain": [
       "60000"
      ]
     },
     "execution_count": 49,
     "metadata": {},
     "output_type": "execute_result"
    }
   ],
   "source": [
    "len(y_train)"
   ]
  },
  {
   "cell_type": "code",
   "execution_count": 50,
   "metadata": {
    "id": "q0uJ8qxZG8TC"
   },
   "outputs": [],
   "source": [
    "nb_classes = 10 # number of unique digits\n",
    "\n",
    "Y_train = np_utils.to_categorical(y_train, nb_classes)\n",
    "Y_test = np_utils.to_categorical(y_test, nb_classes)"
   ]
  },
  {
   "cell_type": "code",
   "execution_count": 51,
   "metadata": {
    "colab": {
     "base_uri": "https://localhost:8080/"
    },
    "id": "BAGcMUNsc4Cf",
    "outputId": "d53de0b7-4096-4903-fb3c-b1901c2fa989"
   },
   "outputs": [
    {
     "data": {
      "text/plain": [
       "array([0., 0., 0., 0., 0., 1., 0., 0., 0., 0.], dtype=float32)"
      ]
     },
     "execution_count": 51,
     "metadata": {},
     "output_type": "execute_result"
    }
   ],
   "source": [
    "Y_train[0]"
   ]
  },
  {
   "cell_type": "markdown",
   "metadata": {
    "id": "VEdErKZgdXkA"
   },
   "source": [
    "**Build a 3-layer fully connected network (FCN)**"
   ]
  },
  {
   "cell_type": "markdown",
   "metadata": {
    "id": "pWDgbm4TeFEd"
   },
   "source": [
    "##### We create a sequential object which is used to arrange the Keras layers in a sequential order.It is called Sequential API.\n",
    "##### Most of the ANN has layers in sequential order and the data flows from one layer to another layer in the given order until the data finally reaches the output layer."
   ]
  },
  {
   "cell_type": "code",
   "execution_count": 52,
   "metadata": {
    "id": "2SV6VpVfJDZ1"
   },
   "outputs": [],
   "source": [
    "model = Sequential()"
   ]
  },
  {
   "cell_type": "markdown",
   "metadata": {
    "id": "MVVtQmF9fukd"
   },
   "source": [
    "The first hidden layer consists of 512 nodes or neurons. Each node will receive an element from each input vector and apply some weight and bias to it. This layer will receive 784 inputs from the input layer."
   ]
  },
  {
   "cell_type": "code",
   "execution_count": 53,
   "metadata": {
    "id": "9kX6dnzLJEzc"
   },
   "outputs": [],
   "source": [
    "model.add(Dense(512, input_shape=(784,))) #(784,) represents a 784 length vector!"
   ]
  },
  {
   "cell_type": "markdown",
   "metadata": {
    "id": "ro8JZuebgCdD"
   },
   "source": [
    "##### An activation function i.e, a non-linear function is applied to the output of the layer 1. This activation function checks the output of each node and decides whether the node has fired or not.\n",
    "##### The activation function used here is 'Rectified Linear Unit (ReLU) it converts all negative inputs to the node in the next layer to be zero. "
   ]
  },
  {
   "cell_type": "code",
   "execution_count": 54,
   "metadata": {
    "id": "fue3luwiKDV5"
   },
   "outputs": [],
   "source": [
    "model.add(Activation('relu'))"
   ]
  },
  {
   "cell_type": "markdown",
   "metadata": {
    "id": "2EOA5hu7hM-S"
   },
   "source": [
    "##### Use Dropout regularization technique\n"
   ]
  },
  {
   "cell_type": "markdown",
   "metadata": {
    "id": "E1TEvr89Gw2F"
   },
   "source": [
    "##### Randomly selected neurons are ignored during training so that their contribution to the activation of downstream neurons is temporally removed on the forward pass and any weight updates are not applied to the neuron on the backward pass\n",
    "##### Now other neurons step in and handle the representation required to make predictions for the missing neurons which results in multiple independent internal representations being learned by the network.\n",
    "##### This results in a network capable of better generalization and less likely to overfit the training data."
   ]
  },
  {
   "cell_type": "code",
   "execution_count": 55,
   "metadata": {
    "id": "YbXW7QAZKVSL"
   },
   "outputs": [],
   "source": [
    "# Dropout zeroes a selection of random outputs (i.e., disables their activation)\n",
    "# Dropout helps protect the model from memorizing or \"overfitting\" the training data.\n",
    "model.add(Dropout(0.2))"
   ]
  },
  {
   "cell_type": "markdown",
   "metadata": {
    "id": "bNea9-ZBHosK"
   },
   "source": [
    "##### Add another layer with 512 neurons to the network and dropping 20% of contribution of neurons in the Layer."
   ]
  },
  {
   "cell_type": "code",
   "execution_count": 56,
   "metadata": {
    "id": "UOzbYc1gKb_2"
   },
   "outputs": [],
   "source": [
    "#Adding second hidden layer\n",
    "model.add(Dense(512))\n",
    "model.add(Activation('relu'))\n",
    "model.add(Dropout(0.2))"
   ]
  },
  {
   "cell_type": "markdown",
   "metadata": {
    "id": "t_LnQK3bH4nw"
   },
   "source": [
    "##### Adding the output layer Which consists of 10 Neurons since our output variable has 10 Classes"
   ]
  },
  {
   "cell_type": "code",
   "execution_count": 57,
   "metadata": {
    "id": "mmgbeHPlKg0K"
   },
   "outputs": [],
   "source": [
    "# The final layer of 10 neurons in fully-connected to the previous 512-node layer.\n",
    "# The final layer of a FCN should be equal to the number of desired classes (10 in this case).\n",
    "model.add(Dense(10))"
   ]
  },
  {
   "cell_type": "markdown",
   "metadata": {
    "id": "cWIjUU3xIF4P"
   },
   "source": [
    "##### The Softmax function is used for the ouput layer when we face the problem of multiple categories. It will give probabilities of each class and the class with the highest probability is represented by one and others as zero."
   ]
  },
  {
   "cell_type": "code",
   "execution_count": 58,
   "metadata": {
    "id": "ixLnHe_wKndj"
   },
   "outputs": [],
   "source": [
    "# The \"softmax\" activation represents a probability distribution over K different possible outcomes.\n",
    "# Its values are all non-negative and sum to 1.\n",
    "\n",
    "model.add(Activation('softmax'))"
   ]
  },
  {
   "cell_type": "code",
   "execution_count": 59,
   "metadata": {
    "colab": {
     "base_uri": "https://localhost:8080/"
    },
    "id": "PydGxoQHKq8R",
    "outputId": "2ca30f5c-b8b0-4e2b-c6d1-838a285c9d27"
   },
   "outputs": [
    {
     "name": "stdout",
     "output_type": "stream",
     "text": [
      "Model: \"sequential_2\"\n",
      "_________________________________________________________________\n",
      " Layer (type)                Output Shape              Param #   \n",
      "=================================================================\n",
      " dense_3 (Dense)             (None, 512)               401920    \n",
      "                                                                 \n",
      " activation_3 (Activation)   (None, 512)               0         \n",
      "                                                                 \n",
      " dropout_2 (Dropout)         (None, 512)               0         \n",
      "                                                                 \n",
      " dense_4 (Dense)             (None, 512)               262656    \n",
      "                                                                 \n",
      " activation_4 (Activation)   (None, 512)               0         \n",
      "                                                                 \n",
      " dropout_3 (Dropout)         (None, 512)               0         \n",
      "                                                                 \n",
      " dense_5 (Dense)             (None, 10)                5130      \n",
      "                                                                 \n",
      " activation_5 (Activation)   (None, 10)                0         \n",
      "                                                                 \n",
      "=================================================================\n",
      "Total params: 669,706\n",
      "Trainable params: 669,706\n",
      "Non-trainable params: 0\n",
      "_________________________________________________________________\n"
     ]
    }
   ],
   "source": [
    "# Gives information about the number of parameters that are involved at each layer\n",
    "\n",
    "model.summary()"
   ]
  },
  {
   "cell_type": "markdown",
   "metadata": {
    "id": "96hGMcRVI04q"
   },
   "source": [
    "**Compiling the model**"
   ]
  },
  {
   "cell_type": "markdown",
   "metadata": {
    "id": "f7CDOKEeLiUu"
   },
   "source": [
    "##### When compiling a model, Keras asks you to specify your loss function and your optimizer. The loss function we'll use here is called categorical cross-entopy, and is a loss function well-suited to comparing two probability distributions.\n",
    "\n",
    "##### Our predictions are probability distributions across the ten different digits (e.g. \"we're 80% confident this image is a 3, 10% sure it's an 8, 5% it's a 2, etc.\"), and the target is a probability distribution with 100% for the correct category, and 0 for everything else. The cross-entropy is a measure of how different your predicted distribution is from the target distribution. Optimizer Function is used to adjust the weights so that the loss function is reduced.There are various Optimizer function like adam (Adaptive Moment Estimation), AdaMax,AMSgrd, etc.\n",
    "\n",
    "##### Here, we also define the alpha value which is the \"learning rate\". When alpha is too large the accuracy of the model decreases and if the alpha value is too small then in that case it will take lot many iterations to find the optimum weights."
   ]
  },
  {
   "cell_type": "code",
   "execution_count": 60,
   "metadata": {
    "id": "6nOiyIesKvMw"
   },
   "outputs": [],
   "source": [
    "# Let's use the Adam optimizer for learning\n",
    "model.compile(loss='categorical_crossentropy',\n",
    "              optimizer='adam', metrics=['accuracy'])"
   ]
  },
  {
   "cell_type": "markdown",
   "metadata": {
    "id": "caokKjP1Lsin"
   },
   "source": [
    "**Training the model**"
   ]
  },
  {
   "cell_type": "markdown",
   "metadata": {
    "id": "f0GzENYcL8s0"
   },
   "source": [
    "##### The batch size determines over how much data per step is used to compute the loss function, gradients, and back propagation. Large batch sizes allow the network to complete it's training faster; however, there are other factors beyond training speed to consider.\n",
    "##### Too large of a batch size smoothes the local minima of the loss function, causing the optimizer to settle in one because it thinks it found the global minimum.\n",
    "##### Too small of a batch size creates a very noisy loss function, and the optimizer may never find the global minimum.\n",
    "##### batch_size = It is the number of samples processed before the model is updated.\n",
    "##### Epoch: It is the number of complete passes through the training dataset.\n",
    "##### Verbose: This parameter takes in three values 0, 1 or 2. It helps the user to decide how do they want to 'see' the training progress for each epoch."
   ]
  },
  {
   "cell_type": "code",
   "execution_count": 61,
   "metadata": {
    "colab": {
     "base_uri": "https://localhost:8080/"
    },
    "id": "UHFN7Ha3MK_F",
    "outputId": "c059949e-1cec-4869-e486-6f5825bc9ead"
   },
   "outputs": [
    {
     "name": "stdout",
     "output_type": "stream",
     "text": [
      "Epoch 1/5\n",
      "469/469 [==============================] - 9s 17ms/step - loss: 0.2491 - accuracy: 0.9260\n",
      "Epoch 2/5\n",
      "469/469 [==============================] - 9s 19ms/step - loss: 0.1023 - accuracy: 0.9686\n",
      "Epoch 3/5\n",
      "469/469 [==============================] - 8s 18ms/step - loss: 0.0727 - accuracy: 0.9770\n",
      "Epoch 4/5\n",
      "469/469 [==============================] - 9s 19ms/step - loss: 0.0551 - accuracy: 0.9822\n",
      "Epoch 5/5\n",
      "469/469 [==============================] - 8s 17ms/step - loss: 0.0464 - accuracy: 0.9853\n"
     ]
    },
    {
     "data": {
      "text/plain": [
       "<keras.callbacks.History at 0x7f933d676b90>"
      ]
     },
     "execution_count": 61,
     "metadata": {},
     "output_type": "execute_result"
    }
   ],
   "source": [
    "model.fit(X_train, Y_train,\n",
    "          batch_size=128, epochs=5,\n",
    "          verbose=1)"
   ]
  },
  {
   "cell_type": "markdown",
   "metadata": {
    "id": "_L1IAPKAM82A"
   },
   "source": [
    "98% accuracy has been obtained in this model"
   ]
  },
  {
   "cell_type": "code",
   "execution_count": 62,
   "metadata": {
    "colab": {
     "base_uri": "https://localhost:8080/"
    },
    "id": "_Ah1EHQuMhWM",
    "outputId": "e831f045-f281-4c92-f057-0036b7a15503"
   },
   "outputs": [
    {
     "name": "stdout",
     "output_type": "stream",
     "text": [
      "313/313 [==============================] - 2s 4ms/step - loss: 0.0642 - accuracy: 0.9807\n",
      "Test score: 0.06420362740755081\n",
      "Test accuracy: 0.9807000160217285\n"
     ]
    }
   ],
   "source": [
    "score = model.evaluate(X_test, Y_test)\n",
    "print('Test score:', score[0])\n",
    "print('Test accuracy:', score[1])"
   ]
  },
  {
   "cell_type": "markdown",
   "metadata": {
    "id": "ke7UiaKeNIBj"
   },
   "source": [
    "**Inspecting the output**\n",
    "##### To check whether the results obtained are correct."
   ]
  },
  {
   "cell_type": "code",
   "execution_count": 63,
   "metadata": {
    "colab": {
     "base_uri": "https://localhost:8080/"
    },
    "id": "x6gRMgqeMvS7",
    "outputId": "5f2a585f-3791-4264-ee25-1750b89a974d"
   },
   "outputs": [
    {
     "name": "stdout",
     "output_type": "stream",
     "text": [
      "313/313 [==============================] - 1s 3ms/step\n"
     ]
    }
   ],
   "source": [
    "# The predict_classes function outputs the highest probability class\n",
    "# according to the trained classifier for each input example.\n",
    "predicted_x = model.predict(X_test)\n",
    "predicted_classes = np.argmax(predicted_x,axis = 1)      #Returns the index of the value which is maximum in the axis"
   ]
  },
  {
   "cell_type": "code",
   "execution_count": 64,
   "metadata": {
    "colab": {
     "base_uri": "https://localhost:8080/"
    },
    "id": "XXfhLNwqNpLv",
    "outputId": "4ce82b47-fa9b-4c31-e375-aa482a9875dc"
   },
   "outputs": [
    {
     "data": {
      "text/plain": [
       "7"
      ]
     },
     "execution_count": 64,
     "metadata": {},
     "output_type": "execute_result"
    }
   ],
   "source": [
    "predicted_classes[0] #For the first test sample the model has predicted the class to be 7."
   ]
  },
  {
   "cell_type": "code",
   "execution_count": 65,
   "metadata": {
    "id": "-dP09n6VNq0n"
   },
   "outputs": [],
   "source": [
    "#Check which items we got right/wrong\n",
    "\n",
    "correct_indices = np.nonzero(predicted_classes == y_test)[0]\n",
    "\n",
    "incorrect_indices = np.nonzero(predicted_classes != y_test)[0]"
   ]
  },
  {
   "cell_type": "code",
   "execution_count": 66,
   "metadata": {
    "colab": {
     "base_uri": "https://localhost:8080/"
    },
    "id": "2bdNKnc_NutX",
    "outputId": "2b363a3f-1742-48fb-e1f9-ad9d0757a271"
   },
   "outputs": [
    {
     "data": {
      "text/plain": [
       "9807"
      ]
     },
     "execution_count": 66,
     "metadata": {},
     "output_type": "execute_result"
    }
   ],
   "source": [
    "len(correct_indices) #Number of test cases where the model prediction is correct"
   ]
  },
  {
   "cell_type": "code",
   "execution_count": 67,
   "metadata": {
    "colab": {
     "base_uri": "https://localhost:8080/"
    },
    "id": "OOq6DAzfN2Z6",
    "outputId": "c90cc4f8-e2a1-4f03-df1b-18a46804eda0"
   },
   "outputs": [
    {
     "data": {
      "text/plain": [
       "193"
      ]
     },
     "execution_count": 67,
     "metadata": {},
     "output_type": "execute_result"
    }
   ],
   "source": [
    "len(incorrect_indices) #Number of test cases where the model prediction is incorrect"
   ]
  },
  {
   "cell_type": "code",
   "execution_count": 68,
   "metadata": {
    "colab": {
     "base_uri": "https://localhost:8080/",
     "height": 1000
    },
    "id": "AKhEmJM3N-yb",
    "outputId": "cb568d06-97fa-4f83-ea19-999f09566c1d"
   },
   "outputs": [
    {
     "data": {
      "image/png": "[encoded data removed]",
      "text/plain": [
       "<Figure size 648x648 with 9 Axes>"
      ]
     },
     "metadata": {
      "needs_background": "light"
     },
     "output_type": "display_data"
    },
    {
     "data": {
      "image/png": "[encoded data removed]",
      "text/plain": [
       "<Figure size 648x648 with 9 Axes>"
      ]
     },
     "metadata": {
      "needs_background": "light"
     },
     "output_type": "display_data"
    }
   ],
   "source": [
    "# The first 3x3 subplot has test cases where the model has predicted correctly.\n",
    "plt.figure()\n",
    "for i, correct in enumerate(correct_indices[:9]): #enumerate will give tuple of (count,index)\n",
    "    plt.subplot(3,3,i+1)\n",
    "    plt.imshow(X_test[correct].reshape(28,28), cmap='gray', interpolation='none')\n",
    "    plt.title(\"Predicted {}, Class {}\".format(predicted_classes[correct], y_test[correct]))\n",
    "    \n",
    "plt.tight_layout()\n",
    "\n",
    "# The next 3x3 subplot has test cases where the model has predicted incorrectly.\n",
    "plt.figure()\n",
    "for i, incorrect in enumerate(incorrect_indices[:9]):\n",
    "    plt.subplot(3,3,i+1)\n",
    "    plt.imshow(X_test[incorrect].reshape(28,28), cmap='gray', interpolation='none')\n",
    "    plt.title(\"Predicted {}, Class {}\".format(predicted_classes[incorrect], y_test[incorrect]))\n",
    "    \n",
    "plt.tight_layout()"
   ]
  },
  {
   "cell_type": "markdown",
   "metadata": {
    "id": "3mdeiedwOGgE"
   },
   "source": [
    "**Method 2: Using Convolution**"
   ]
  },
  {
   "cell_type": "markdown",
   "metadata": {
    "id": "r5-ms--ROUMa"
   },
   "source": [
    "##### Import necessary libraries"
   ]
  },
  {
   "cell_type": "code",
   "execution_count": 69,
   "metadata": {
    "id": "F8HvTTVzRVW7"
   },
   "outputs": [],
   "source": [
    "from keras.preprocessing.image import ImageDataGenerator # Library contains utilities for image preprocessing \n",
    "                                                         # and augmentation.\n",
    "from keras.layers import Conv2D, MaxPooling2D, ZeroPadding2D, GlobalAveragePooling2D, Flatten #Methods to extract information from the image\n",
    "from keras.layers.normalization.batch_normalization import BatchNormalization # For Batch normalization method"
   ]
  },
  {
   "cell_type": "markdown",
   "metadata": {
    "id": "XkAW_TuNOjcx"
   },
   "source": [
    "Reload MNIST data and divide dataset into test and train"
   ]
  },
  {
   "cell_type": "code",
   "execution_count": 70,
   "metadata": {
    "id": "8yNQyqrBRWrr"
   },
   "outputs": [],
   "source": [
    "(X_train, y_train), (X_test, y_test) = mnist.load_data()"
   ]
  },
  {
   "cell_type": "code",
   "execution_count": 71,
   "metadata": {
    "colab": {
     "base_uri": "https://localhost:8080/"
    },
    "id": "Trkbu9ytO2Yv",
    "outputId": "6f2a8e2d-e7c2-4453-c981-3db94874e9d6"
   },
   "outputs": [
    {
     "data": {
      "text/plain": [
       "(60000, 28, 28)"
      ]
     },
     "execution_count": 71,
     "metadata": {},
     "output_type": "execute_result"
    }
   ],
   "source": [
    "X_train.shape"
   ]
  },
  {
   "cell_type": "markdown",
   "metadata": {
    "id": "iZXFRnvGO9ZR"
   },
   "source": [
    "**Feature Transformation**"
   ]
  },
  {
   "cell_type": "code",
   "execution_count": 72,
   "metadata": {
    "id": "vNbfs0HKSIUM"
   },
   "outputs": [],
   "source": [
    "X_train = X_train.reshape(60000, 28, 28, 1) #add an additional dimension to represent the single-channel\n",
    "X_test = X_test.reshape(10000, 28, 28, 1)"
   ]
  },
  {
   "cell_type": "code",
   "execution_count": 73,
   "metadata": {
    "colab": {
     "base_uri": "https://localhost:8080/"
    },
    "id": "NZfG1xQzPVoA",
    "outputId": "0c482dee-8e65-42e5-fe9d-2584905dd83b"
   },
   "outputs": [
    {
     "data": {
      "text/plain": [
       "dtype('uint8')"
      ]
     },
     "execution_count": 73,
     "metadata": {},
     "output_type": "execute_result"
    }
   ],
   "source": [
    "X_train.dtype"
   ]
  },
  {
   "cell_type": "code",
   "execution_count": 74,
   "metadata": {
    "id": "yuIzqA5OPgs8"
   },
   "outputs": [],
   "source": [
    "X_train = X_train.astype('float32')  #Change integers to 32-bit floating point\n",
    "X_test = X_test.astype('float32')"
   ]
  },
  {
   "cell_type": "markdown",
   "metadata": {
    "id": "6dba6U2KPOg3"
   },
   "source": [
    "**Normalizing using min-max method**"
   ]
  },
  {
   "cell_type": "code",
   "execution_count": 75,
   "metadata": {
    "colab": {
     "base_uri": "https://localhost:8080/"
    },
    "id": "EZcIkmhDRklN",
    "outputId": "981cf73b-f3b2-469f-fccc-9058bf29c471"
   },
   "outputs": [
    {
     "name": "stdout",
     "output_type": "stream",
     "text": [
      "Training matrix shape (60000, 28, 28, 1)\n",
      "Testing matrix shape (10000, 28, 28, 1)\n"
     ]
    }
   ],
   "source": [
    "X_train /=255 #normalize each value for each pixel\n",
    "X_test /=255\n",
    "\n",
    "print(\"Training matrix shape\", X_train.shape)\n",
    "print(\"Testing matrix shape\", X_test.shape)"
   ]
  },
  {
   "cell_type": "markdown",
   "metadata": {
    "id": "SIdBAywBRm2k"
   },
   "source": [
    "##### Convert the dependent variable to vectors which will consists 1 and 0s. \n",
    "1 - The image is of that particular Category. \n",
    "0 - The image is not of that particular Category.\n",
    "\n",
    "##### The classes (unique digits) are to be in the one-hot encoding formating, i.e\n",
    "\n",
    "0 = [1,0,0,0,0,0,0,0,0,0]\n",
    "\n",
    "1 = [0,1,0,0,0,0,0,0,0,0]\n",
    "\n",
    "etc"
   ]
  },
  {
   "cell_type": "code",
   "execution_count": 76,
   "metadata": {
    "id": "r8TmM2qKSKEC"
   },
   "outputs": [],
   "source": [
    "# one-hot format classes\n",
    "\n",
    "nb_classes = 10 # number of unique digits\n",
    "\n",
    "Y_train = np_utils.to_categorical(y_train, nb_classes)\n",
    "Y_test = np_utils.to_categorical(y_test, nb_classes)"
   ]
  },
  {
   "cell_type": "markdown",
   "metadata": {
    "id": "WxjbHxD3R9Cj"
   },
   "source": [
    "**Model Building**"
   ]
  },
  {
   "cell_type": "code",
   "execution_count": 77,
   "metadata": {
    "id": "aRKySRjjSSrp"
   },
   "outputs": [],
   "source": [
    "#Data flows from one layer to another layer in the given order until the data finally reaches the output \n",
    "layermodel = Sequential()     #linear stacking of layers"
   ]
  },
  {
   "cell_type": "markdown",
   "metadata": {
    "id": "qMjF-mp5Sbrr"
   },
   "source": [
    "##### Create first Convolution Layer\n",
    "##### filters: To specify the number of feature detectors. Here, we specify it as 32\n",
    "##### kernal_size: The size of the kernal, in our case it is 3 x 3.\n",
    "##### input_shape: Here, we specify the order of the input for the first layer."
   ]
  },
  {
   "cell_type": "code",
   "execution_count": null,
   "metadata": {
    "id": "Uw6JoE1SURah"
   },
   "outputs": [],
   "source": [
    "# Convolution Layer 1\n",
    "model.add(Conv2D(32, (3, 3), input_shape=(28,28,1))) # 32 different 3x3 kernels -- so 32 feature maps"
   ]
  },
  {
   "cell_type": "markdown",
   "metadata": {
    "id": "InS6p5KJUUzx"
   },
   "source": [
    "Applying Batch normalization: It is a process to make neural networks faster and more stable through adding extra layers in a deep neural network. The new layer performs the standardizing and normalizing operations on the input of a layer coming from a previous layer.The normalizing process in batch normalization takes place in batches, not as a single input. The process involved is as follow:\n",
    "Calculate the mean of the hidden activation.\n",
    "Calculate the SD of the hidden activation.\n",
    "epsilon is the smoothing term which assures numerical stability within the operation by stopping a division by a zero value."
   ]
  },
  {
   "cell_type": "markdown",
   "metadata": {
    "id": "ET2GDmBnUsH4"
   },
   "source": [
    "Rescalling and offsetting of the inputs are done using the two components of the BN algorithm, gamma and β.These two are learnable parameters, during the training neural network ensures the optimal values of γ and β are used. That will enable the accurate normalization of each batch.\n",
    "The parameter used is axis: This takes integer value, here we specify the feature which needs to be normalized."
   ]
  },
  {
   "cell_type": "code",
   "execution_count": 80,
   "metadata": {
    "id": "51VMFCxhTcQ_"
   },
   "outputs": [],
   "source": [
    "model.add(BatchNormalization(axis=-1))               # normalize each feature map before activation"
   ]
  },
  {
   "cell_type": "markdown",
   "metadata": {
    "id": "aSNqRtx0VBzW"
   },
   "source": [
    "Now an activation function which is a non-linear function is applied to the output of the layer 1. This activation function checks the output of each node and decides whether the node has fired or not. The activation function used here is 'Rectified Linear Unit (ReLU) it converts all negative inputs to the node in the next layer to be zero. These inputs are then not considered to be fired. The positive values are unchanged."
   ]
  },
  {
   "cell_type": "code",
   "execution_count": 81,
   "metadata": {
    "id": "qPSjx8KXTubI"
   },
   "outputs": [],
   "source": [
    "convLayer01 = Activation('relu')                     \n",
    "model.add(convLayer01)"
   ]
  },
  {
   "cell_type": "code",
   "execution_count": null,
   "metadata": {
    "id": "cXf4FZtcVsTy"
   },
   "outputs": [],
   "source": [
    "# Convolution Layer 2\n",
    "model.add(Conv2D(32, (3, 3)))"
   ]
  },
  {
   "cell_type": "code",
   "execution_count": 83,
   "metadata": {
    "id": "rgl9vrwcUH3B"
   },
   "outputs": [],
   "source": [
    "model.add(BatchNormalization(axis=-1))"
   ]
  },
  {
   "cell_type": "markdown",
   "metadata": {
    "id": "YfcAMlE0Vx6m"
   },
   "source": [
    "The purpose of applying the rectifier function is to increase the non-linearity in our images. \n",
    "The rectifier serves to break up the linearity even further in order to make up for the linearity that we might impose an image when we put it through the convolution operation."
   ]
  },
  {
   "cell_type": "code",
   "execution_count": 84,
   "metadata": {
    "id": "MF53cOUxUOl5"
   },
   "outputs": [],
   "source": [
    "model.add(Activation('relu'))"
   ]
  },
  {
   "cell_type": "markdown",
   "metadata": {
    "id": "BSdHOg6XWGkd"
   },
   "source": [
    "MaxPooling is applied which downsamples the input along its spatial dimensions (height and width) by taking the maximum value over an input window (of size defined by pool_size) for each channel of the input. The window is shifted by strides along each dimension. "
   ]
  },
  {
   "cell_type": "code",
   "execution_count": null,
   "metadata": {
    "id": "MyCG9ELbWR0p"
   },
   "outputs": [],
   "source": [
    "convLayer02 = MaxPooling2D(pool_size=(2,2))          # Pool the max values over a 2x2 kernel\n",
    "model.add(convLayer02)"
   ]
  },
  {
   "cell_type": "code",
   "execution_count": null,
   "metadata": {
    "id": "PDdOw-uQWpuH"
   },
   "outputs": [],
   "source": [
    "# Convolution Layer 3\n",
    "model.add(Conv2D(64,(3, 3)))                         # 64 different 3x3 kernels -- so 64 feature maps\n",
    "model.add(BatchNormalization(axis=-1))               # normalize each feature map before activation\n",
    "convLayer03 = Activation('relu')                     # activation\n",
    "model.add(convLayer03)"
   ]
  },
  {
   "cell_type": "code",
   "execution_count": null,
   "metadata": {
    "id": "eVtW9uK5WsVf"
   },
   "outputs": [],
   "source": [
    "# Convolution Layer 4\n",
    "model.add(Conv2D(64, (3, 3)))                        # 64 different 3x3 kernels -- so 64 feature maps\n",
    "model.add(BatchNormalization(axis=-1))               # normalize each feature map before activation\n",
    "model.add(Activation('relu'))                        # activation\n",
    "convLayer04 = MaxPooling2D(pool_size=(2,2))          # Pool the max values over a 2x2 kernel\n",
    "model.add(convLayer04)\n",
    "model.add(Flatten())"
   ]
  },
  {
   "cell_type": "markdown",
   "metadata": {
    "id": "znZTh_5HWzqH"
   },
   "source": [
    "Create hidden dense layer with 512 nodes"
   ]
  },
  {
   "cell_type": "code",
   "execution_count": null,
   "metadata": {
    "id": "ew5vdCgdWytn"
   },
   "outputs": [],
   "source": [
    "# Fully Connected Layer 5\n",
    "model.add(Dense(512))                                # 512 FCN nodes\n",
    "model.add(BatchNormalization())                      # normalization\n",
    "model.add(Activation('relu'))"
   ]
  },
  {
   "cell_type": "markdown",
   "metadata": {
    "id": "0AVM2e-vXG9O"
   },
   "source": [
    "From the previous layer 20% of neurons are randomly selected and considered not active. This is done to avoid over-fitting.And then we finally create the last output layer, which has 10 nodes. And apply the \"softmax\" function since we have a multiclass problem (10 categories)."
   ]
  },
  {
   "cell_type": "code",
   "execution_count": null,
   "metadata": {
    "id": "8qlPcA-uW96q"
   },
   "outputs": [],
   "source": [
    "# Fully Connected Layer 6                       \n",
    "model.add(Dropout(0.2))                              # 20% dropout of randomly selected nodes\n",
    "model.add(Dense(10))                                 # final 10 FCN nodes\n",
    "model.add(Activation('softmax'))                     # softmax activation"
   ]
  },
  {
   "cell_type": "markdown",
   "metadata": {
    "id": "_zAa3zq4XRvp"
   },
   "source": [
    "The formula for computing the number of parameters after performing the Convolution is = ((Dimention of Height * dimension of Width * no. of filters in the previous layer) + 1 (Bias)) * (No of filters in the current layer)\n",
    "\n",
    "Con2d_4 - Number of parameters are: ((3 * 3 * 1) + 1)*32) = 320\n",
    "Con2d_5 - Number of parameters are: ((3 * 3 * 32) + 1)*32) = 9248\n",
    "##### The parameter for the batch normalization is: Number of Nodes*4 (Which are the four parameters of BN which are gamma weights, beta weights, moving_mean(non-trainable) and moving_variance(non-trainable)\n",
    "For Eg:\n",
    "32*4 = 512\n",
    "##### Total Params are the total number of parameters in the model.\n",
    "##### Trainable parameters are those parameters which are found using the gradient, when we use batch normalization the parameters Gamma and beta are trained using the gradient but the mean and the variance are not, these are known as non-trainable parameters. The number of these parameters could be computed as sum of all the layers of (Total Nodes *2)"
   ]
  },
  {
   "cell_type": "code",
   "execution_count": null,
   "metadata": {
    "id": "g9BB2MA4ZsJG"
   },
   "outputs": [],
   "source": [
    "model.summry()"
   ]
  },
  {
   "cell_type": "markdown",
   "metadata": {
    "id": "AAYvfcqAYBOH"
   },
   "source": [
    "**Compiling the model**"
   ]
  },
  {
   "cell_type": "code",
   "execution_count": 89,
   "metadata": {
    "id": "DiEgi9tWYEeK"
   },
   "outputs": [],
   "source": [
    "model.compile(loss='categorical_crossentropy', optimizer='adam', metrics=['accuracy'])"
   ]
  },
  {
   "cell_type": "markdown",
   "metadata": {
    "id": "ZOx_zQFnYKZe"
   },
   "source": [
    "**Fitting the model**"
   ]
  },
  {
   "cell_type": "code",
   "execution_count": 90,
   "metadata": {
    "id": "vx9XJtahYIp4"
   },
   "outputs": [],
   "source": [
    "# data augmentation prevents overfitting by slightly changing the data randomly\n",
    "# Keras has a great built-in feature to do automatic augmentation\n",
    "\n",
    "gen = ImageDataGenerator(rotation_range=8, width_shift_range=0.08, shear_range=0.3,\n",
    "                         height_shift_range=0.08, zoom_range=0.08)\n",
    "\n",
    "test_gen = ImageDataGenerator()"
   ]
  },
  {
   "cell_type": "markdown",
   "metadata": {
    "id": "fU-wR341YVPh"
   },
   "source": [
    "Perform transformation in both train and test data"
   ]
  },
  {
   "cell_type": "code",
   "execution_count": 91,
   "metadata": {
    "id": "qdOpubz7YbHY"
   },
   "outputs": [],
   "source": [
    "# We can then feed our augmented data in batches\n",
    "# Besides loss function considerations as before, this method actually results in significant memory savings\n",
    "# because we are actually LOADING the data into the network in batches before processing each batch\n",
    "# Before the data was all loaded into memory, but then processed in batches.\n",
    "\n",
    "train_generator = gen.flow(X_train, Y_train, batch_size=128)\n",
    "test_generator = test_gen.flow(X_test, Y_test, batch_size=128)"
   ]
  },
  {
   "cell_type": "markdown",
   "metadata": {
    "id": "CVCoAxNvY8Sr"
   },
   "source": [
    "Fitting on trained data"
   ]
  },
  {
   "cell_type": "code",
   "execution_count": null,
   "metadata": {
    "id": "Ffj30QiGZRi4"
   },
   "outputs": [],
   "source": [
    "# Steps per epoch should always be total size of the set divided by the batch size\n",
    "# SIGNIFICANT MEMORY SAVINGS (important for larger, deeper networks)\n",
    "model.fit_generator(train_generator, steps_per_epoch=60000//128, epochs=5, verbose=1, \n",
    "                    validation_data=test_generator, validation_steps=10000//128)"
   ]
  },
  {
   "cell_type": "markdown",
   "metadata": {
    "id": "Z5gs0kJUZYhi"
   },
   "source": [
    "Evaluating the model"
   ]
  },
  {
   "cell_type": "code",
   "execution_count": null,
   "metadata": {
    "id": "UodkUpLLZnzv"
   },
   "outputs": [],
   "source": [
    "score = model.evaluate(X_test, Y_test)\n",
    "print('Test score:', score[0])\n",
    "print('Test accuracy:', score[1])"
   ]
  }
 ],
 "metadata": {
  "colab": {
   "collapsed_sections": [],
   "provenance": []
  },
  "kernelspec": {
   "display_name": "Python 3",
   "language": "python",
   "name": "python3"
  },
  "language_info": {
   "codemirror_mode": {
    "name": "ipython",
    "version": 3
   },
   "file_extension": ".py",
   "mimetype": "text/x-python",
   "name": "python",
   "nbconvert_exporter": "python",
   "pygments_lexer": "ipython3",
   "version": "3.7.6"
  }
 },
 "nbformat": 4,
 "nbformat_minor": 1
}
